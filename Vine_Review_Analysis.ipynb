{
 "cells": [
  {
   "cell_type": "code",
   "execution_count": 1,
   "id": "3ac78510",
   "metadata": {},
   "outputs": [],
   "source": [
    "import pandas as pd"
   ]
  },
  {
   "cell_type": "code",
   "execution_count": 4,
   "id": "13e7f6db",
   "metadata": {},
   "outputs": [
    {
     "data": {
      "text/html": [
       "<div>\n",
       "<style scoped>\n",
       "    .dataframe tbody tr th:only-of-type {\n",
       "        vertical-align: middle;\n",
       "    }\n",
       "\n",
       "    .dataframe tbody tr th {\n",
       "        vertical-align: top;\n",
       "    }\n",
       "\n",
       "    .dataframe thead th {\n",
       "        text-align: right;\n",
       "    }\n",
       "</style>\n",
       "<table border=\"1\" class=\"dataframe\">\n",
       "  <thead>\n",
       "    <tr style=\"text-align: right;\">\n",
       "      <th></th>\n",
       "      <th>star_rating</th>\n",
       "      <th>helpful_votes</th>\n",
       "      <th>total_votes</th>\n",
       "      <th>vine</th>\n",
       "      <th>verified_purchase</th>\n",
       "    </tr>\n",
       "    <tr>\n",
       "      <th>review_id</th>\n",
       "      <th></th>\n",
       "      <th></th>\n",
       "      <th></th>\n",
       "      <th></th>\n",
       "      <th></th>\n",
       "    </tr>\n",
       "  </thead>\n",
       "  <tbody>\n",
       "    <tr>\n",
       "      <th>R3O9SGZBVQBV76</th>\n",
       "      <td>5</td>\n",
       "      <td>0</td>\n",
       "      <td>0</td>\n",
       "      <td>N</td>\n",
       "      <td>Y</td>\n",
       "    </tr>\n",
       "    <tr>\n",
       "      <th>RKH8BNC3L5DLF</th>\n",
       "      <td>5</td>\n",
       "      <td>0</td>\n",
       "      <td>0</td>\n",
       "      <td>N</td>\n",
       "      <td>Y</td>\n",
       "    </tr>\n",
       "    <tr>\n",
       "      <th>R2HLE8WKZSU3NL</th>\n",
       "      <td>2</td>\n",
       "      <td>1</td>\n",
       "      <td>1</td>\n",
       "      <td>N</td>\n",
       "      <td>Y</td>\n",
       "    </tr>\n",
       "    <tr>\n",
       "      <th>R31U3UH5AZ42LL</th>\n",
       "      <td>5</td>\n",
       "      <td>0</td>\n",
       "      <td>0</td>\n",
       "      <td>N</td>\n",
       "      <td>Y</td>\n",
       "    </tr>\n",
       "    <tr>\n",
       "      <th>R2SV659OUJ945Y</th>\n",
       "      <td>4</td>\n",
       "      <td>0</td>\n",
       "      <td>0</td>\n",
       "      <td>N</td>\n",
       "      <td>Y</td>\n",
       "    </tr>\n",
       "  </tbody>\n",
       "</table>\n",
       "</div>"
      ],
      "text/plain": [
       "                star_rating  helpful_votes  total_votes vine verified_purchase\n",
       "review_id                                                                     \n",
       "R3O9SGZBVQBV76            5              0            0    N                 Y\n",
       "RKH8BNC3L5DLF             5              0            0    N                 Y\n",
       "R2HLE8WKZSU3NL            2              1            1    N                 Y\n",
       "R31U3UH5AZ42LL            5              0            0    N                 Y\n",
       "R2SV659OUJ945Y            4              0            0    N                 Y"
      ]
     },
     "execution_count": 4,
     "metadata": {},
     "output_type": "execute_result"
    }
   ],
   "source": [
    "df = pd.read_csv('vine_data.csv', index_col=0)\n",
    "df.head()"
   ]
  },
  {
   "cell_type": "code",
   "execution_count": 5,
   "id": "c4ef2b55",
   "metadata": {},
   "outputs": [
    {
     "data": {
      "text/plain": [
       "star_rating           int64\n",
       "helpful_votes         int64\n",
       "total_votes           int64\n",
       "vine                 object\n",
       "verified_purchase    object\n",
       "dtype: object"
      ]
     },
     "execution_count": 5,
     "metadata": {},
     "output_type": "execute_result"
    }
   ],
   "source": [
    "df.dtypes"
   ]
  },
  {
   "cell_type": "code",
   "execution_count": 6,
   "id": "0db4f5ed",
   "metadata": {},
   "outputs": [
    {
     "data": {
      "text/html": [
       "<div>\n",
       "<style scoped>\n",
       "    .dataframe tbody tr th:only-of-type {\n",
       "        vertical-align: middle;\n",
       "    }\n",
       "\n",
       "    .dataframe tbody tr th {\n",
       "        vertical-align: top;\n",
       "    }\n",
       "\n",
       "    .dataframe thead th {\n",
       "        text-align: right;\n",
       "    }\n",
       "</style>\n",
       "<table border=\"1\" class=\"dataframe\">\n",
       "  <thead>\n",
       "    <tr style=\"text-align: right;\">\n",
       "      <th></th>\n",
       "      <th>star_rating</th>\n",
       "      <th>helpful_votes</th>\n",
       "      <th>total_votes</th>\n",
       "      <th>vine</th>\n",
       "      <th>verified_purchase</th>\n",
       "    </tr>\n",
       "    <tr>\n",
       "      <th>review_id</th>\n",
       "      <th></th>\n",
       "      <th></th>\n",
       "      <th></th>\n",
       "      <th></th>\n",
       "      <th></th>\n",
       "    </tr>\n",
       "  </thead>\n",
       "  <tbody>\n",
       "    <tr>\n",
       "      <th>R14W2VCHHK5V7W</th>\n",
       "      <td>5</td>\n",
       "      <td>19</td>\n",
       "      <td>20</td>\n",
       "      <td>N</td>\n",
       "      <td>Y</td>\n",
       "    </tr>\n",
       "    <tr>\n",
       "      <th>R1S3T57O3OYT5S</th>\n",
       "      <td>5</td>\n",
       "      <td>19</td>\n",
       "      <td>20</td>\n",
       "      <td>N</td>\n",
       "      <td>Y</td>\n",
       "    </tr>\n",
       "    <tr>\n",
       "      <th>R1BTWIBLYYVOV7</th>\n",
       "      <td>5</td>\n",
       "      <td>30</td>\n",
       "      <td>30</td>\n",
       "      <td>N</td>\n",
       "      <td>Y</td>\n",
       "    </tr>\n",
       "    <tr>\n",
       "      <th>R6F9VY91ADPLA</th>\n",
       "      <td>1</td>\n",
       "      <td>8</td>\n",
       "      <td>30</td>\n",
       "      <td>N</td>\n",
       "      <td>N</td>\n",
       "    </tr>\n",
       "    <tr>\n",
       "      <th>R3PXNV89DFIXKV</th>\n",
       "      <td>5</td>\n",
       "      <td>35</td>\n",
       "      <td>37</td>\n",
       "      <td>N</td>\n",
       "      <td>Y</td>\n",
       "    </tr>\n",
       "  </tbody>\n",
       "</table>\n",
       "</div>"
      ],
      "text/plain": [
       "                star_rating  helpful_votes  total_votes vine verified_purchase\n",
       "review_id                                                                     \n",
       "R14W2VCHHK5V7W            5             19           20    N                 Y\n",
       "R1S3T57O3OYT5S            5             19           20    N                 Y\n",
       "R1BTWIBLYYVOV7            5             30           30    N                 Y\n",
       "R6F9VY91ADPLA             1              8           30    N                 N\n",
       "R3PXNV89DFIXKV            5             35           37    N                 Y"
      ]
     },
     "execution_count": 6,
     "metadata": {},
     "output_type": "execute_result"
    }
   ],
   "source": [
    "#Filter the data and create a new DataFrame or table to retrieve all the rows where the total_votes count is equal to or greater than 20 \n",
    "total_votes20_df = df[(df[\"total_votes\"] >= 20)]\n",
    "total_votes20_df.head()"
   ]
  },
  {
   "cell_type": "code",
   "execution_count": 13,
   "id": "f82cdfdf",
   "metadata": {},
   "outputs": [
    {
     "data": {
      "text/plain": [
       "star_rating          9631\n",
       "helpful_votes        9631\n",
       "total_votes          9631\n",
       "vine                 9631\n",
       "verified_purchase    9631\n",
       "dtype: int64"
      ]
     },
     "execution_count": 13,
     "metadata": {},
     "output_type": "execute_result"
    }
   ],
   "source": [
    "total_votes20_df.count()"
   ]
  },
  {
   "cell_type": "code",
   "execution_count": 11,
   "id": "0e51aa75",
   "metadata": {},
   "outputs": [
    {
     "data": {
      "text/html": [
       "<div>\n",
       "<style scoped>\n",
       "    .dataframe tbody tr th:only-of-type {\n",
       "        vertical-align: middle;\n",
       "    }\n",
       "\n",
       "    .dataframe tbody tr th {\n",
       "        vertical-align: top;\n",
       "    }\n",
       "\n",
       "    .dataframe thead th {\n",
       "        text-align: right;\n",
       "    }\n",
       "</style>\n",
       "<table border=\"1\" class=\"dataframe\">\n",
       "  <thead>\n",
       "    <tr style=\"text-align: right;\">\n",
       "      <th></th>\n",
       "      <th>star_rating</th>\n",
       "      <th>helpful_votes</th>\n",
       "      <th>total_votes</th>\n",
       "      <th>vine</th>\n",
       "      <th>verified_purchase</th>\n",
       "    </tr>\n",
       "    <tr>\n",
       "      <th>review_id</th>\n",
       "      <th></th>\n",
       "      <th></th>\n",
       "      <th></th>\n",
       "      <th></th>\n",
       "      <th></th>\n",
       "    </tr>\n",
       "  </thead>\n",
       "  <tbody>\n",
       "    <tr>\n",
       "      <th>R14W2VCHHK5V7W</th>\n",
       "      <td>5</td>\n",
       "      <td>19</td>\n",
       "      <td>20</td>\n",
       "      <td>N</td>\n",
       "      <td>Y</td>\n",
       "    </tr>\n",
       "    <tr>\n",
       "      <th>R1S3T57O3OYT5S</th>\n",
       "      <td>5</td>\n",
       "      <td>19</td>\n",
       "      <td>20</td>\n",
       "      <td>N</td>\n",
       "      <td>Y</td>\n",
       "    </tr>\n",
       "    <tr>\n",
       "      <th>R1BTWIBLYYVOV7</th>\n",
       "      <td>5</td>\n",
       "      <td>30</td>\n",
       "      <td>30</td>\n",
       "      <td>N</td>\n",
       "      <td>Y</td>\n",
       "    </tr>\n",
       "    <tr>\n",
       "      <th>R3PXNV89DFIXKV</th>\n",
       "      <td>5</td>\n",
       "      <td>35</td>\n",
       "      <td>37</td>\n",
       "      <td>N</td>\n",
       "      <td>Y</td>\n",
       "    </tr>\n",
       "    <tr>\n",
       "      <th>R2ZF9NYVT3J7D6</th>\n",
       "      <td>5</td>\n",
       "      <td>19</td>\n",
       "      <td>22</td>\n",
       "      <td>N</td>\n",
       "      <td>Y</td>\n",
       "    </tr>\n",
       "  </tbody>\n",
       "</table>\n",
       "</div>"
      ],
      "text/plain": [
       "                star_rating  helpful_votes  total_votes vine verified_purchase\n",
       "review_id                                                                     \n",
       "R14W2VCHHK5V7W            5             19           20    N                 Y\n",
       "R1S3T57O3OYT5S            5             19           20    N                 Y\n",
       "R1BTWIBLYYVOV7            5             30           30    N                 Y\n",
       "R3PXNV89DFIXKV            5             35           37    N                 Y\n",
       "R2ZF9NYVT3J7D6            5             19           22    N                 Y"
      ]
     },
     "execution_count": 11,
     "metadata": {},
     "output_type": "execute_result"
    }
   ],
   "source": [
    "#Create a new DataFrame or table to retrieve all the rows where the number of helpful_votes \n",
    "#divided by total_votes is equal to or greater than 50%\n",
    "helpful_votes50_df = total_votes20_df[((total_votes20_df[\"helpful_votes\"]/total_votes20_df[\"total_votes\"])>= .5)]\n",
    "helpful_votes50_df.head()"
   ]
  },
  {
   "cell_type": "code",
   "execution_count": 12,
   "id": "de3a416a",
   "metadata": {},
   "outputs": [
    {
     "data": {
      "text/plain": [
       "star_rating          8409\n",
       "helpful_votes        8409\n",
       "total_votes          8409\n",
       "vine                 8409\n",
       "verified_purchase    8409\n",
       "dtype: int64"
      ]
     },
     "execution_count": 12,
     "metadata": {},
     "output_type": "execute_result"
    }
   ],
   "source": [
    "helpful_votes50_df.count()"
   ]
  },
  {
   "cell_type": "code",
   "execution_count": 14,
   "id": "26e89a14",
   "metadata": {},
   "outputs": [
    {
     "data": {
      "text/html": [
       "<div>\n",
       "<style scoped>\n",
       "    .dataframe tbody tr th:only-of-type {\n",
       "        vertical-align: middle;\n",
       "    }\n",
       "\n",
       "    .dataframe tbody tr th {\n",
       "        vertical-align: top;\n",
       "    }\n",
       "\n",
       "    .dataframe thead th {\n",
       "        text-align: right;\n",
       "    }\n",
       "</style>\n",
       "<table border=\"1\" class=\"dataframe\">\n",
       "  <thead>\n",
       "    <tr style=\"text-align: right;\">\n",
       "      <th></th>\n",
       "      <th>star_rating</th>\n",
       "      <th>helpful_votes</th>\n",
       "      <th>total_votes</th>\n",
       "      <th>vine</th>\n",
       "      <th>verified_purchase</th>\n",
       "    </tr>\n",
       "    <tr>\n",
       "      <th>review_id</th>\n",
       "      <th></th>\n",
       "      <th></th>\n",
       "      <th></th>\n",
       "      <th></th>\n",
       "      <th></th>\n",
       "    </tr>\n",
       "  </thead>\n",
       "  <tbody>\n",
       "    <tr>\n",
       "      <th>R1B7M0OP3UNP6O</th>\n",
       "      <td>5</td>\n",
       "      <td>49</td>\n",
       "      <td>52</td>\n",
       "      <td>Y</td>\n",
       "      <td>N</td>\n",
       "    </tr>\n",
       "    <tr>\n",
       "      <th>R2UUV4UGGYMQG8</th>\n",
       "      <td>5</td>\n",
       "      <td>34</td>\n",
       "      <td>39</td>\n",
       "      <td>Y</td>\n",
       "      <td>N</td>\n",
       "    </tr>\n",
       "    <tr>\n",
       "      <th>R9K0LZV2BK9YY</th>\n",
       "      <td>4</td>\n",
       "      <td>37</td>\n",
       "      <td>39</td>\n",
       "      <td>Y</td>\n",
       "      <td>N</td>\n",
       "    </tr>\n",
       "    <tr>\n",
       "      <th>R2OVFLNEUEGTJM</th>\n",
       "      <td>3</td>\n",
       "      <td>18</td>\n",
       "      <td>25</td>\n",
       "      <td>Y</td>\n",
       "      <td>N</td>\n",
       "    </tr>\n",
       "    <tr>\n",
       "      <th>RBE09ELJ77LQ0</th>\n",
       "      <td>5</td>\n",
       "      <td>44</td>\n",
       "      <td>45</td>\n",
       "      <td>Y</td>\n",
       "      <td>N</td>\n",
       "    </tr>\n",
       "  </tbody>\n",
       "</table>\n",
       "</div>"
      ],
      "text/plain": [
       "                star_rating  helpful_votes  total_votes vine verified_purchase\n",
       "review_id                                                                     \n",
       "R1B7M0OP3UNP6O            5             49           52    Y                 N\n",
       "R2UUV4UGGYMQG8            5             34           39    Y                 N\n",
       "R9K0LZV2BK9YY             4             37           39    Y                 N\n",
       "R2OVFLNEUEGTJM            3             18           25    Y                 N\n",
       "RBE09ELJ77LQ0             5             44           45    Y                 N"
      ]
     },
     "execution_count": 14,
     "metadata": {},
     "output_type": "execute_result"
    }
   ],
   "source": [
    "#create a new DataFrame or table that retrieves all the rows where a review was written \n",
    "#as part of the Vine program (paid), vine == 'Y'\n",
    "\n",
    "reviews_vine_program_df = helpful_votes50_df[(helpful_votes50_df[\"vine\"]=='Y')]\n",
    "reviews_vine_program_df.head()"
   ]
  },
  {
   "cell_type": "code",
   "execution_count": 15,
   "id": "73dde8e7",
   "metadata": {},
   "outputs": [
    {
     "data": {
      "text/plain": [
       "star_rating          47\n",
       "helpful_votes        47\n",
       "total_votes          47\n",
       "vine                 47\n",
       "verified_purchase    47\n",
       "dtype: int64"
      ]
     },
     "execution_count": 15,
     "metadata": {},
     "output_type": "execute_result"
    }
   ],
   "source": [
    "reviews_vine_program_df.count()"
   ]
  },
  {
   "cell_type": "code",
   "execution_count": 16,
   "id": "51fbc68f",
   "metadata": {},
   "outputs": [
    {
     "data": {
      "text/html": [
       "<div>\n",
       "<style scoped>\n",
       "    .dataframe tbody tr th:only-of-type {\n",
       "        vertical-align: middle;\n",
       "    }\n",
       "\n",
       "    .dataframe tbody tr th {\n",
       "        vertical-align: top;\n",
       "    }\n",
       "\n",
       "    .dataframe thead th {\n",
       "        text-align: right;\n",
       "    }\n",
       "</style>\n",
       "<table border=\"1\" class=\"dataframe\">\n",
       "  <thead>\n",
       "    <tr style=\"text-align: right;\">\n",
       "      <th></th>\n",
       "      <th>star_rating</th>\n",
       "      <th>helpful_votes</th>\n",
       "      <th>total_votes</th>\n",
       "      <th>vine</th>\n",
       "      <th>verified_purchase</th>\n",
       "    </tr>\n",
       "    <tr>\n",
       "      <th>review_id</th>\n",
       "      <th></th>\n",
       "      <th></th>\n",
       "      <th></th>\n",
       "      <th></th>\n",
       "      <th></th>\n",
       "    </tr>\n",
       "  </thead>\n",
       "  <tbody>\n",
       "    <tr>\n",
       "      <th>R14W2VCHHK5V7W</th>\n",
       "      <td>5</td>\n",
       "      <td>19</td>\n",
       "      <td>20</td>\n",
       "      <td>N</td>\n",
       "      <td>Y</td>\n",
       "    </tr>\n",
       "    <tr>\n",
       "      <th>R1S3T57O3OYT5S</th>\n",
       "      <td>5</td>\n",
       "      <td>19</td>\n",
       "      <td>20</td>\n",
       "      <td>N</td>\n",
       "      <td>Y</td>\n",
       "    </tr>\n",
       "    <tr>\n",
       "      <th>R1BTWIBLYYVOV7</th>\n",
       "      <td>5</td>\n",
       "      <td>30</td>\n",
       "      <td>30</td>\n",
       "      <td>N</td>\n",
       "      <td>Y</td>\n",
       "    </tr>\n",
       "    <tr>\n",
       "      <th>R3PXNV89DFIXKV</th>\n",
       "      <td>5</td>\n",
       "      <td>35</td>\n",
       "      <td>37</td>\n",
       "      <td>N</td>\n",
       "      <td>Y</td>\n",
       "    </tr>\n",
       "    <tr>\n",
       "      <th>R2ZF9NYVT3J7D6</th>\n",
       "      <td>5</td>\n",
       "      <td>19</td>\n",
       "      <td>22</td>\n",
       "      <td>N</td>\n",
       "      <td>Y</td>\n",
       "    </tr>\n",
       "  </tbody>\n",
       "</table>\n",
       "</div>"
      ],
      "text/plain": [
       "                star_rating  helpful_votes  total_votes vine verified_purchase\n",
       "review_id                                                                     \n",
       "R14W2VCHHK5V7W            5             19           20    N                 Y\n",
       "R1S3T57O3OYT5S            5             19           20    N                 Y\n",
       "R1BTWIBLYYVOV7            5             30           30    N                 Y\n",
       "R3PXNV89DFIXKV            5             35           37    N                 Y\n",
       "R2ZF9NYVT3J7D6            5             19           22    N                 Y"
      ]
     },
     "execution_count": 16,
     "metadata": {},
     "output_type": "execute_result"
    }
   ],
   "source": [
    "#Repeat Step 3, but this time retrieve all the rows where the review was not part of the Vine program (unpaid), vine == 'N'\n",
    "reviews_notvine_program_df = helpful_votes50_df[(helpful_votes50_df[\"vine\"]=='N')]\n",
    "reviews_notvine_program_df.head()"
   ]
  },
  {
   "cell_type": "code",
   "execution_count": 17,
   "id": "60434bb0",
   "metadata": {},
   "outputs": [
    {
     "data": {
      "text/plain": [
       "star_rating          8362\n",
       "helpful_votes        8362\n",
       "total_votes          8362\n",
       "vine                 8362\n",
       "verified_purchase    8362\n",
       "dtype: int64"
      ]
     },
     "execution_count": 17,
     "metadata": {},
     "output_type": "execute_result"
    }
   ],
   "source": [
    "reviews_notvine_program_df.count()"
   ]
  },
  {
   "cell_type": "code",
   "execution_count": 28,
   "id": "f1e7ee6a",
   "metadata": {},
   "outputs": [
    {
     "name": "stdout",
     "output_type": "stream",
     "text": [
      "8409\n"
     ]
    }
   ],
   "source": [
    "total_reviews_ = helpful_votes50_df['star_rating'].count()\n",
    "print(total_reviews_)"
   ]
  },
  {
   "cell_type": "code",
   "execution_count": 30,
   "id": "3ea88183",
   "metadata": {},
   "outputs": [
    {
     "name": "stdout",
     "output_type": "stream",
     "text": [
      "47\n"
     ]
    }
   ],
   "source": [
    "total_reviews_paid = reviews_vine_program_df['star_rating'].count()\n",
    "print(total_reviews_paid)"
   ]
  },
  {
   "cell_type": "code",
   "execution_count": 29,
   "id": "ad736d02",
   "metadata": {},
   "outputs": [
    {
     "name": "stdout",
     "output_type": "stream",
     "text": [
      "8362\n"
     ]
    }
   ],
   "source": [
    "total_reviews_unpaid = reviews_notvine_program_df['star_rating'].count()\n",
    "print(total_reviews_unpaid)"
   ]
  },
  {
   "cell_type": "code",
   "execution_count": 32,
   "id": "fae0b540",
   "metadata": {},
   "outputs": [
    {
     "name": "stdout",
     "output_type": "stream",
     "text": [
      "15\n"
     ]
    }
   ],
   "source": [
    "vine_5star_df = reviews_vine_program_df[(reviews_vine_program_df[\"star_rating\"] == 5) & (reviews_vine_program_df[\"vine\"] == 'Y')]\n",
    "num_vine_5star = vine_5star_df['star_rating'].count()\n",
    "print(num_vine_5star)"
   ]
  },
  {
   "cell_type": "code",
   "execution_count": 33,
   "id": "bb17d3eb",
   "metadata": {},
   "outputs": [
    {
     "name": "stdout",
     "output_type": "stream",
     "text": [
      "4332\n"
     ]
    }
   ],
   "source": [
    "unpaid_5star_df = reviews_notvine_program_df[(reviews_notvine_program_df[\"star_rating\"] == 5) & (reviews_notvine_program_df[\"vine\"] == 'N')]\n",
    "num_unpaid_5star = unpaid_5star_df['star_rating'].count()\n",
    "print(num_unpaid_5star)"
   ]
  },
  {
   "cell_type": "code",
   "execution_count": 36,
   "id": "49595b51",
   "metadata": {},
   "outputs": [
    {
     "name": "stdout",
     "output_type": "stream",
     "text": [
      "0.0015610820171677395\n"
     ]
    }
   ],
   "source": [
    "paid_percent = num_vine_5star/total_reviews *100\n",
    "print(paid_percent)"
   ]
  },
  {
   "cell_type": "code",
   "execution_count": 37,
   "id": "0ae9b29a",
   "metadata": {},
   "outputs": [
    {
     "name": "stdout",
     "output_type": "stream",
     "text": [
      "0.4508404865580431\n"
     ]
    }
   ],
   "source": [
    "unpaid_percent = num_unpaid_5star/total_reviews *100\n",
    "print(unpaid_percent)"
   ]
  },
  {
   "cell_type": "code",
   "execution_count": null,
   "id": "05652b3c",
   "metadata": {},
   "outputs": [],
   "source": []
  }
 ],
 "metadata": {
  "kernelspec": {
   "display_name": "PythonData",
   "language": "python",
   "name": "pythondata"
  },
  "language_info": {
   "codemirror_mode": {
    "name": "ipython",
    "version": 3
   },
   "file_extension": ".py",
   "mimetype": "text/x-python",
   "name": "python",
   "nbconvert_exporter": "python",
   "pygments_lexer": "ipython3",
   "version": "3.8.8"
  }
 },
 "nbformat": 4,
 "nbformat_minor": 5
}
