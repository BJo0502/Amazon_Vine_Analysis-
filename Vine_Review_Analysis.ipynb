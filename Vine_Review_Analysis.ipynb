{
 "cells": [
  {
   "cell_type": "code",
   "execution_count": 1,
   "id": "3ac78510",
   "metadata": {},
   "outputs": [],
   "source": [
    "import pandas as pd"
   ]
  },
  {
   "cell_type": "code",
   "execution_count": 2,
   "id": "13e7f6db",
   "metadata": {},
   "outputs": [
    {
     "data": {
      "text/html": [
       "<div>\n",
       "<style scoped>\n",
       "    .dataframe tbody tr th:only-of-type {\n",
       "        vertical-align: middle;\n",
       "    }\n",
       "\n",
       "    .dataframe tbody tr th {\n",
       "        vertical-align: top;\n",
       "    }\n",
       "\n",
       "    .dataframe thead th {\n",
       "        text-align: right;\n",
       "    }\n",
       "</style>\n",
       "<table border=\"1\" class=\"dataframe\">\n",
       "  <thead>\n",
       "    <tr style=\"text-align: right;\">\n",
       "      <th></th>\n",
       "      <th>star_rating</th>\n",
       "      <th>helpful_votes</th>\n",
       "      <th>total_votes</th>\n",
       "      <th>vine</th>\n",
       "      <th>verified_purchase</th>\n",
       "    </tr>\n",
       "    <tr>\n",
       "      <th>review_id</th>\n",
       "      <th></th>\n",
       "      <th></th>\n",
       "      <th></th>\n",
       "      <th></th>\n",
       "      <th></th>\n",
       "    </tr>\n",
       "  </thead>\n",
       "  <tbody>\n",
       "    <tr>\n",
       "      <th>R3O9SGZBVQBV76</th>\n",
       "      <td>5</td>\n",
       "      <td>0</td>\n",
       "      <td>0</td>\n",
       "      <td>N</td>\n",
       "      <td>Y</td>\n",
       "    </tr>\n",
       "    <tr>\n",
       "      <th>RKH8BNC3L5DLF</th>\n",
       "      <td>5</td>\n",
       "      <td>0</td>\n",
       "      <td>0</td>\n",
       "      <td>N</td>\n",
       "      <td>Y</td>\n",
       "    </tr>\n",
       "    <tr>\n",
       "      <th>R2HLE8WKZSU3NL</th>\n",
       "      <td>2</td>\n",
       "      <td>1</td>\n",
       "      <td>1</td>\n",
       "      <td>N</td>\n",
       "      <td>Y</td>\n",
       "    </tr>\n",
       "    <tr>\n",
       "      <th>R31U3UH5AZ42LL</th>\n",
       "      <td>5</td>\n",
       "      <td>0</td>\n",
       "      <td>0</td>\n",
       "      <td>N</td>\n",
       "      <td>Y</td>\n",
       "    </tr>\n",
       "    <tr>\n",
       "      <th>R2SV659OUJ945Y</th>\n",
       "      <td>4</td>\n",
       "      <td>0</td>\n",
       "      <td>0</td>\n",
       "      <td>N</td>\n",
       "      <td>Y</td>\n",
       "    </tr>\n",
       "  </tbody>\n",
       "</table>\n",
       "</div>"
      ],
      "text/plain": [
       "                star_rating  helpful_votes  total_votes vine verified_purchase\n",
       "review_id                                                                     \n",
       "R3O9SGZBVQBV76            5              0            0    N                 Y\n",
       "RKH8BNC3L5DLF             5              0            0    N                 Y\n",
       "R2HLE8WKZSU3NL            2              1            1    N                 Y\n",
       "R31U3UH5AZ42LL            5              0            0    N                 Y\n",
       "R2SV659OUJ945Y            4              0            0    N                 Y"
      ]
     },
     "execution_count": 2,
     "metadata": {},
     "output_type": "execute_result"
    }
   ],
   "source": [
    "df = pd.read_csv('vine_data.csv', index_col=0)\n",
    "df.head()"
   ]
  },
  {
   "cell_type": "code",
   "execution_count": 3,
   "id": "c4ef2b55",
   "metadata": {},
   "outputs": [
    {
     "data": {
      "text/plain": [
       "star_rating           int64\n",
       "helpful_votes         int64\n",
       "total_votes           int64\n",
       "vine                 object\n",
       "verified_purchase    object\n",
       "dtype: object"
      ]
     },
     "execution_count": 3,
     "metadata": {},
     "output_type": "execute_result"
    }
   ],
   "source": [
    "df.dtypes"
   ]
  },
  {
   "cell_type": "code",
   "execution_count": 4,
   "id": "0db4f5ed",
   "metadata": {},
   "outputs": [
    {
     "data": {
      "text/html": [
       "<div>\n",
       "<style scoped>\n",
       "    .dataframe tbody tr th:only-of-type {\n",
       "        vertical-align: middle;\n",
       "    }\n",
       "\n",
       "    .dataframe tbody tr th {\n",
       "        vertical-align: top;\n",
       "    }\n",
       "\n",
       "    .dataframe thead th {\n",
       "        text-align: right;\n",
       "    }\n",
       "</style>\n",
       "<table border=\"1\" class=\"dataframe\">\n",
       "  <thead>\n",
       "    <tr style=\"text-align: right;\">\n",
       "      <th></th>\n",
       "      <th>star_rating</th>\n",
       "      <th>helpful_votes</th>\n",
       "      <th>total_votes</th>\n",
       "      <th>vine</th>\n",
       "      <th>verified_purchase</th>\n",
       "    </tr>\n",
       "    <tr>\n",
       "      <th>review_id</th>\n",
       "      <th></th>\n",
       "      <th></th>\n",
       "      <th></th>\n",
       "      <th></th>\n",
       "      <th></th>\n",
       "    </tr>\n",
       "  </thead>\n",
       "  <tbody>\n",
       "    <tr>\n",
       "      <th>R14W2VCHHK5V7W</th>\n",
       "      <td>5</td>\n",
       "      <td>19</td>\n",
       "      <td>20</td>\n",
       "      <td>N</td>\n",
       "      <td>Y</td>\n",
       "    </tr>\n",
       "    <tr>\n",
       "      <th>R1S3T57O3OYT5S</th>\n",
       "      <td>5</td>\n",
       "      <td>19</td>\n",
       "      <td>20</td>\n",
       "      <td>N</td>\n",
       "      <td>Y</td>\n",
       "    </tr>\n",
       "    <tr>\n",
       "      <th>R1BTWIBLYYVOV7</th>\n",
       "      <td>5</td>\n",
       "      <td>30</td>\n",
       "      <td>30</td>\n",
       "      <td>N</td>\n",
       "      <td>Y</td>\n",
       "    </tr>\n",
       "    <tr>\n",
       "      <th>R6F9VY91ADPLA</th>\n",
       "      <td>1</td>\n",
       "      <td>8</td>\n",
       "      <td>30</td>\n",
       "      <td>N</td>\n",
       "      <td>N</td>\n",
       "    </tr>\n",
       "    <tr>\n",
       "      <th>R3PXNV89DFIXKV</th>\n",
       "      <td>5</td>\n",
       "      <td>35</td>\n",
       "      <td>37</td>\n",
       "      <td>N</td>\n",
       "      <td>Y</td>\n",
       "    </tr>\n",
       "  </tbody>\n",
       "</table>\n",
       "</div>"
      ],
      "text/plain": [
       "                star_rating  helpful_votes  total_votes vine verified_purchase\n",
       "review_id                                                                     \n",
       "R14W2VCHHK5V7W            5             19           20    N                 Y\n",
       "R1S3T57O3OYT5S            5             19           20    N                 Y\n",
       "R1BTWIBLYYVOV7            5             30           30    N                 Y\n",
       "R6F9VY91ADPLA             1              8           30    N                 N\n",
       "R3PXNV89DFIXKV            5             35           37    N                 Y"
      ]
     },
     "execution_count": 4,
     "metadata": {},
     "output_type": "execute_result"
    }
   ],
   "source": [
    "#Filter the data and create a new DataFrame or table to retrieve all the rows where the total_votes count is equal to or greater than 20 \n",
    "total_votes20_df = df[(df[\"total_votes\"] >= 20)]\n",
    "total_votes20_df.head()"
   ]
  },
  {
   "cell_type": "code",
   "execution_count": 5,
   "id": "f82cdfdf",
   "metadata": {},
   "outputs": [
    {
     "data": {
      "text/plain": [
       "star_rating          9631\n",
       "helpful_votes        9631\n",
       "total_votes          9631\n",
       "vine                 9631\n",
       "verified_purchase    9631\n",
       "dtype: int64"
      ]
     },
     "execution_count": 5,
     "metadata": {},
     "output_type": "execute_result"
    }
   ],
   "source": [
    "total_votes20_df.count()"
   ]
  },
  {
   "cell_type": "code",
   "execution_count": 6,
   "id": "0e51aa75",
   "metadata": {},
   "outputs": [
    {
     "data": {
      "text/html": [
       "<div>\n",
       "<style scoped>\n",
       "    .dataframe tbody tr th:only-of-type {\n",
       "        vertical-align: middle;\n",
       "    }\n",
       "\n",
       "    .dataframe tbody tr th {\n",
       "        vertical-align: top;\n",
       "    }\n",
       "\n",
       "    .dataframe thead th {\n",
       "        text-align: right;\n",
       "    }\n",
       "</style>\n",
       "<table border=\"1\" class=\"dataframe\">\n",
       "  <thead>\n",
       "    <tr style=\"text-align: right;\">\n",
       "      <th></th>\n",
       "      <th>star_rating</th>\n",
       "      <th>helpful_votes</th>\n",
       "      <th>total_votes</th>\n",
       "      <th>vine</th>\n",
       "      <th>verified_purchase</th>\n",
       "    </tr>\n",
       "    <tr>\n",
       "      <th>review_id</th>\n",
       "      <th></th>\n",
       "      <th></th>\n",
       "      <th></th>\n",
       "      <th></th>\n",
       "      <th></th>\n",
       "    </tr>\n",
       "  </thead>\n",
       "  <tbody>\n",
       "    <tr>\n",
       "      <th>R14W2VCHHK5V7W</th>\n",
       "      <td>5</td>\n",
       "      <td>19</td>\n",
       "      <td>20</td>\n",
       "      <td>N</td>\n",
       "      <td>Y</td>\n",
       "    </tr>\n",
       "    <tr>\n",
       "      <th>R1S3T57O3OYT5S</th>\n",
       "      <td>5</td>\n",
       "      <td>19</td>\n",
       "      <td>20</td>\n",
       "      <td>N</td>\n",
       "      <td>Y</td>\n",
       "    </tr>\n",
       "    <tr>\n",
       "      <th>R1BTWIBLYYVOV7</th>\n",
       "      <td>5</td>\n",
       "      <td>30</td>\n",
       "      <td>30</td>\n",
       "      <td>N</td>\n",
       "      <td>Y</td>\n",
       "    </tr>\n",
       "    <tr>\n",
       "      <th>R3PXNV89DFIXKV</th>\n",
       "      <td>5</td>\n",
       "      <td>35</td>\n",
       "      <td>37</td>\n",
       "      <td>N</td>\n",
       "      <td>Y</td>\n",
       "    </tr>\n",
       "    <tr>\n",
       "      <th>R2ZF9NYVT3J7D6</th>\n",
       "      <td>5</td>\n",
       "      <td>19</td>\n",
       "      <td>22</td>\n",
       "      <td>N</td>\n",
       "      <td>Y</td>\n",
       "    </tr>\n",
       "  </tbody>\n",
       "</table>\n",
       "</div>"
      ],
      "text/plain": [
       "                star_rating  helpful_votes  total_votes vine verified_purchase\n",
       "review_id                                                                     \n",
       "R14W2VCHHK5V7W            5             19           20    N                 Y\n",
       "R1S3T57O3OYT5S            5             19           20    N                 Y\n",
       "R1BTWIBLYYVOV7            5             30           30    N                 Y\n",
       "R3PXNV89DFIXKV            5             35           37    N                 Y\n",
       "R2ZF9NYVT3J7D6            5             19           22    N                 Y"
      ]
     },
     "execution_count": 6,
     "metadata": {},
     "output_type": "execute_result"
    }
   ],
   "source": [
    "#Create a new DataFrame or table to retrieve all the rows where the number of helpful_votes \n",
    "#divided by total_votes is equal to or greater than 50%\n",
    "helpful_votes50_df = total_votes20_df[((total_votes20_df[\"helpful_votes\"]/total_votes20_df[\"total_votes\"])>= .5)]\n",
    "helpful_votes50_df.head()"
   ]
  },
  {
   "cell_type": "code",
   "execution_count": 7,
   "id": "de3a416a",
   "metadata": {},
   "outputs": [
    {
     "data": {
      "text/plain": [
       "star_rating          8409\n",
       "helpful_votes        8409\n",
       "total_votes          8409\n",
       "vine                 8409\n",
       "verified_purchase    8409\n",
       "dtype: int64"
      ]
     },
     "execution_count": 7,
     "metadata": {},
     "output_type": "execute_result"
    }
   ],
   "source": [
    "helpful_votes50_df.count()"
   ]
  },
  {
   "cell_type": "code",
   "execution_count": 8,
   "id": "26e89a14",
   "metadata": {},
   "outputs": [
    {
     "data": {
      "text/html": [
       "<div>\n",
       "<style scoped>\n",
       "    .dataframe tbody tr th:only-of-type {\n",
       "        vertical-align: middle;\n",
       "    }\n",
       "\n",
       "    .dataframe tbody tr th {\n",
       "        vertical-align: top;\n",
       "    }\n",
       "\n",
       "    .dataframe thead th {\n",
       "        text-align: right;\n",
       "    }\n",
       "</style>\n",
       "<table border=\"1\" class=\"dataframe\">\n",
       "  <thead>\n",
       "    <tr style=\"text-align: right;\">\n",
       "      <th></th>\n",
       "      <th>star_rating</th>\n",
       "      <th>helpful_votes</th>\n",
       "      <th>total_votes</th>\n",
       "      <th>vine</th>\n",
       "      <th>verified_purchase</th>\n",
       "    </tr>\n",
       "    <tr>\n",
       "      <th>review_id</th>\n",
       "      <th></th>\n",
       "      <th></th>\n",
       "      <th></th>\n",
       "      <th></th>\n",
       "      <th></th>\n",
       "    </tr>\n",
       "  </thead>\n",
       "  <tbody>\n",
       "    <tr>\n",
       "      <th>R1B7M0OP3UNP6O</th>\n",
       "      <td>5</td>\n",
       "      <td>49</td>\n",
       "      <td>52</td>\n",
       "      <td>Y</td>\n",
       "      <td>N</td>\n",
       "    </tr>\n",
       "    <tr>\n",
       "      <th>R2UUV4UGGYMQG8</th>\n",
       "      <td>5</td>\n",
       "      <td>34</td>\n",
       "      <td>39</td>\n",
       "      <td>Y</td>\n",
       "      <td>N</td>\n",
       "    </tr>\n",
       "    <tr>\n",
       "      <th>R9K0LZV2BK9YY</th>\n",
       "      <td>4</td>\n",
       "      <td>37</td>\n",
       "      <td>39</td>\n",
       "      <td>Y</td>\n",
       "      <td>N</td>\n",
       "    </tr>\n",
       "    <tr>\n",
       "      <th>R2OVFLNEUEGTJM</th>\n",
       "      <td>3</td>\n",
       "      <td>18</td>\n",
       "      <td>25</td>\n",
       "      <td>Y</td>\n",
       "      <td>N</td>\n",
       "    </tr>\n",
       "    <tr>\n",
       "      <th>RBE09ELJ77LQ0</th>\n",
       "      <td>5</td>\n",
       "      <td>44</td>\n",
       "      <td>45</td>\n",
       "      <td>Y</td>\n",
       "      <td>N</td>\n",
       "    </tr>\n",
       "  </tbody>\n",
       "</table>\n",
       "</div>"
      ],
      "text/plain": [
       "                star_rating  helpful_votes  total_votes vine verified_purchase\n",
       "review_id                                                                     \n",
       "R1B7M0OP3UNP6O            5             49           52    Y                 N\n",
       "R2UUV4UGGYMQG8            5             34           39    Y                 N\n",
       "R9K0LZV2BK9YY             4             37           39    Y                 N\n",
       "R2OVFLNEUEGTJM            3             18           25    Y                 N\n",
       "RBE09ELJ77LQ0             5             44           45    Y                 N"
      ]
     },
     "execution_count": 8,
     "metadata": {},
     "output_type": "execute_result"
    }
   ],
   "source": [
    "#create a new DataFrame or table that retrieves all the rows where a review was written \n",
    "#as part of the Vine program (paid), vine == 'Y'\n",
    "\n",
    "reviews_vine_program_df = helpful_votes50_df[(helpful_votes50_df[\"vine\"]=='Y')]\n",
    "reviews_vine_program_df.head()"
   ]
  },
  {
   "cell_type": "code",
   "execution_count": 9,
   "id": "73dde8e7",
   "metadata": {},
   "outputs": [
    {
     "data": {
      "text/plain": [
       "star_rating          47\n",
       "helpful_votes        47\n",
       "total_votes          47\n",
       "vine                 47\n",
       "verified_purchase    47\n",
       "dtype: int64"
      ]
     },
     "execution_count": 9,
     "metadata": {},
     "output_type": "execute_result"
    }
   ],
   "source": [
    "reviews_vine_program_df.count()"
   ]
  },
  {
   "cell_type": "code",
   "execution_count": 10,
   "id": "51fbc68f",
   "metadata": {},
   "outputs": [
    {
     "data": {
      "text/html": [
       "<div>\n",
       "<style scoped>\n",
       "    .dataframe tbody tr th:only-of-type {\n",
       "        vertical-align: middle;\n",
       "    }\n",
       "\n",
       "    .dataframe tbody tr th {\n",
       "        vertical-align: top;\n",
       "    }\n",
       "\n",
       "    .dataframe thead th {\n",
       "        text-align: right;\n",
       "    }\n",
       "</style>\n",
       "<table border=\"1\" class=\"dataframe\">\n",
       "  <thead>\n",
       "    <tr style=\"text-align: right;\">\n",
       "      <th></th>\n",
       "      <th>star_rating</th>\n",
       "      <th>helpful_votes</th>\n",
       "      <th>total_votes</th>\n",
       "      <th>vine</th>\n",
       "      <th>verified_purchase</th>\n",
       "    </tr>\n",
       "    <tr>\n",
       "      <th>review_id</th>\n",
       "      <th></th>\n",
       "      <th></th>\n",
       "      <th></th>\n",
       "      <th></th>\n",
       "      <th></th>\n",
       "    </tr>\n",
       "  </thead>\n",
       "  <tbody>\n",
       "    <tr>\n",
       "      <th>R14W2VCHHK5V7W</th>\n",
       "      <td>5</td>\n",
       "      <td>19</td>\n",
       "      <td>20</td>\n",
       "      <td>N</td>\n",
       "      <td>Y</td>\n",
       "    </tr>\n",
       "    <tr>\n",
       "      <th>R1S3T57O3OYT5S</th>\n",
       "      <td>5</td>\n",
       "      <td>19</td>\n",
       "      <td>20</td>\n",
       "      <td>N</td>\n",
       "      <td>Y</td>\n",
       "    </tr>\n",
       "    <tr>\n",
       "      <th>R1BTWIBLYYVOV7</th>\n",
       "      <td>5</td>\n",
       "      <td>30</td>\n",
       "      <td>30</td>\n",
       "      <td>N</td>\n",
       "      <td>Y</td>\n",
       "    </tr>\n",
       "    <tr>\n",
       "      <th>R3PXNV89DFIXKV</th>\n",
       "      <td>5</td>\n",
       "      <td>35</td>\n",
       "      <td>37</td>\n",
       "      <td>N</td>\n",
       "      <td>Y</td>\n",
       "    </tr>\n",
       "    <tr>\n",
       "      <th>R2ZF9NYVT3J7D6</th>\n",
       "      <td>5</td>\n",
       "      <td>19</td>\n",
       "      <td>22</td>\n",
       "      <td>N</td>\n",
       "      <td>Y</td>\n",
       "    </tr>\n",
       "  </tbody>\n",
       "</table>\n",
       "</div>"
      ],
      "text/plain": [
       "                star_rating  helpful_votes  total_votes vine verified_purchase\n",
       "review_id                                                                     \n",
       "R14W2VCHHK5V7W            5             19           20    N                 Y\n",
       "R1S3T57O3OYT5S            5             19           20    N                 Y\n",
       "R1BTWIBLYYVOV7            5             30           30    N                 Y\n",
       "R3PXNV89DFIXKV            5             35           37    N                 Y\n",
       "R2ZF9NYVT3J7D6            5             19           22    N                 Y"
      ]
     },
     "execution_count": 10,
     "metadata": {},
     "output_type": "execute_result"
    }
   ],
   "source": [
    "#Repeat Step 3, but this time retrieve all the rows where the review was not part of the Vine program (unpaid), vine == 'N'\n",
    "reviews_notvine_program_df = helpful_votes50_df[(helpful_votes50_df[\"vine\"]=='N')]\n",
    "reviews_notvine_program_df.head()"
   ]
  },
  {
   "cell_type": "code",
   "execution_count": 11,
   "id": "60434bb0",
   "metadata": {},
   "outputs": [
    {
     "data": {
      "text/plain": [
       "star_rating          8362\n",
       "helpful_votes        8362\n",
       "total_votes          8362\n",
       "vine                 8362\n",
       "verified_purchase    8362\n",
       "dtype: int64"
      ]
     },
     "execution_count": 11,
     "metadata": {},
     "output_type": "execute_result"
    }
   ],
   "source": [
    "reviews_notvine_program_df.count()"
   ]
  },
  {
   "cell_type": "markdown",
   "id": "b7219f23",
   "metadata": {},
   "source": [
    "Total Number of Reviews"
   ]
  },
  {
   "cell_type": "code",
   "execution_count": 12,
   "id": "f1e7ee6a",
   "metadata": {},
   "outputs": [
    {
     "name": "stdout",
     "output_type": "stream",
     "text": [
      "8409\n"
     ]
    }
   ],
   "source": [
    "total_reviews_ = helpful_votes50_df['star_rating'].count()\n",
    "print(total_reviews_)"
   ]
  },
  {
   "cell_type": "markdown",
   "id": "08414797",
   "metadata": {},
   "source": [
    "Total Number of Vine Reviews"
   ]
  },
  {
   "cell_type": "code",
   "execution_count": 23,
   "id": "3870b49a",
   "metadata": {},
   "outputs": [
    {
     "name": "stdout",
     "output_type": "stream",
     "text": [
      "47\n"
     ]
    }
   ],
   "source": [
    "total_vine_reviews = reviews_vine_program_df['star_rating'].count()\n",
    "print(total_vine_reviews)"
   ]
  },
  {
   "cell_type": "markdown",
   "id": "77d66b9f",
   "metadata": {},
   "source": [
    "Total Number of Unpaid Reviews"
   ]
  },
  {
   "cell_type": "code",
   "execution_count": 26,
   "id": "d3ffa750",
   "metadata": {},
   "outputs": [
    {
     "name": "stdout",
     "output_type": "stream",
     "text": [
      "8362\n"
     ]
    }
   ],
   "source": [
    "total_unpaid_reviews = reviews_notvine_program_df['star_rating'].count()\n",
    "print(total_unpaid_reviews)"
   ]
  },
  {
   "cell_type": "markdown",
   "id": "9d6460ef",
   "metadata": {},
   "source": [
    "Total Number of 5 Star Reviews"
   ]
  },
  {
   "cell_type": "code",
   "execution_count": 13,
   "id": "1db72313",
   "metadata": {},
   "outputs": [
    {
     "name": "stdout",
     "output_type": "stream",
     "text": [
      "4347\n"
     ]
    }
   ],
   "source": [
    "total_5star_df = helpful_votes50_df[(helpful_votes50_df[\"star_rating\"] == 5)]\n",
    "tot_5star = total_5star_df['star_rating'].count()\n",
    "print(tot_5star)"
   ]
  },
  {
   "cell_type": "markdown",
   "id": "b8961055",
   "metadata": {},
   "source": [
    "Percentage of 5 Star Reviews that are from Vine (Paid)"
   ]
  },
  {
   "cell_type": "code",
   "execution_count": 14,
   "id": "ac1fa5fe",
   "metadata": {},
   "outputs": [
    {
     "name": "stdout",
     "output_type": "stream",
     "text": [
      "15\n",
      "0.003450655624568668\n"
     ]
    }
   ],
   "source": [
    "vine_5star_df = reviews_vine_program_df[(reviews_vine_program_df[\"star_rating\"] == 5) & (reviews_vine_program_df[\"vine\"] == 'Y')]\n",
    "num_vine_5star = vine_5star_df['star_rating'].count()\n",
    "print(num_vine_5star)\n",
    "\n",
    "paid_percent = num_vine_5star/tot_5star\n",
    "print(paid_percent)"
   ]
  },
  {
   "cell_type": "markdown",
   "id": "5cb7f0e9",
   "metadata": {},
   "source": [
    "Percentage of 5 Star Reviews that are NOT from Vine (Unpaid)"
   ]
  },
  {
   "cell_type": "code",
   "execution_count": 15,
   "id": "61ba02e6",
   "metadata": {},
   "outputs": [
    {
     "name": "stdout",
     "output_type": "stream",
     "text": [
      "4332\n",
      "0.9965493443754313\n"
     ]
    }
   ],
   "source": [
    "unpaid_5star_df = reviews_notvine_program_df[(reviews_notvine_program_df[\"star_rating\"] == 5) & (reviews_notvine_program_df[\"vine\"] == 'N')]\n",
    "num_unpaid_5star = unpaid_5star_df['star_rating'].count()\n",
    "print(num_unpaid_5star)\n",
    "\n",
    "paid_percent = num_unpaid_5star/tot_5star\n",
    "print(paid_percent)"
   ]
  },
  {
   "cell_type": "markdown",
   "id": "7a70c952",
   "metadata": {},
   "source": [
    "Additional Analysis of Unpaid Reviews"
   ]
  },
  {
   "cell_type": "code",
   "execution_count": 36,
   "id": "7c11054d",
   "metadata": {},
   "outputs": [
    {
     "name": "stdout",
     "output_type": "stream",
     "text": [
      "4332\n",
      "51.80578808897393\n"
     ]
    }
   ],
   "source": [
    "unpaid_5star_df = reviews_notvine_program_df[(reviews_notvine_program_df[\"star_rating\"] == 5) & (reviews_notvine_program_df[\"vine\"] == 'N')]\n",
    "num_unpaid_5star = unpaid_5star_df['star_rating'].count()\n",
    "print(num_unpaid_5star)\n",
    "\n",
    "paid_percent = num_unpaid_5star/total_unpaid_reviews*100\n",
    "print(paid_percent)"
   ]
  },
  {
   "cell_type": "code",
   "execution_count": 37,
   "id": "4cc06a25",
   "metadata": {},
   "outputs": [
    {
     "name": "stdout",
     "output_type": "stream",
     "text": [
      "1332\n",
      "15.929203539823009\n"
     ]
    }
   ],
   "source": [
    "unpaid_4star_df = reviews_notvine_program_df[(reviews_notvine_program_df[\"star_rating\"] == 4) & (reviews_notvine_program_df[\"vine\"] == 'N')]\n",
    "num_unpaid_4star = unpaid_4star_df['star_rating'].count()\n",
    "print(num_unpaid_4star)\n",
    "\n",
    "paid_percent = num_unpaid_4star/total_unpaid_reviews*100\n",
    "print(paid_percent)"
   ]
  },
  {
   "cell_type": "code",
   "execution_count": 38,
   "id": "83847ad1",
   "metadata": {},
   "outputs": [
    {
     "name": "stdout",
     "output_type": "stream",
     "text": [
      "764\n",
      "9.1365701985171\n"
     ]
    }
   ],
   "source": [
    "unpaid_3star_df = reviews_notvine_program_df[(reviews_notvine_program_df[\"star_rating\"] == 3) & (reviews_notvine_program_df[\"vine\"] == 'N')]\n",
    "num_unpaid_3star = unpaid_3star_df['star_rating'].count()\n",
    "print(num_unpaid_3star)\n",
    "\n",
    "paid_percent = num_unpaid_3star/total_unpaid_reviews*100\n",
    "print(paid_percent)"
   ]
  },
  {
   "cell_type": "code",
   "execution_count": 39,
   "id": "16e1a805",
   "metadata": {},
   "outputs": [
    {
     "name": "stdout",
     "output_type": "stream",
     "text": [
      "536\n",
      "6.409949772781632\n"
     ]
    }
   ],
   "source": [
    "unpaid_2star_df = reviews_notvine_program_df[(reviews_notvine_program_df[\"star_rating\"] == 2) & (reviews_notvine_program_df[\"vine\"] == 'N')]\n",
    "num_unpaid_2star = unpaid_2star_df['star_rating'].count()\n",
    "print(num_unpaid_2star)\n",
    "\n",
    "paid_percent = num_unpaid_2star/total_unpaid_reviews*100\n",
    "print(paid_percent)"
   ]
  },
  {
   "cell_type": "code",
   "execution_count": 40,
   "id": "05a854ed",
   "metadata": {},
   "outputs": [
    {
     "name": "stdout",
     "output_type": "stream",
     "text": [
      "1398\n",
      "16.71848839990433\n"
     ]
    }
   ],
   "source": [
    "unpaid_1star_df = reviews_notvine_program_df[(reviews_notvine_program_df[\"star_rating\"] == 1) & (reviews_notvine_program_df[\"vine\"] == 'N')]\n",
    "num_unpaid_1star = unpaid_1star_df['star_rating'].count()\n",
    "print(num_unpaid_1star)\n",
    "\n",
    "paid_percent = num_unpaid_1star/total_unpaid_reviews*100\n",
    "print(paid_percent)"
   ]
  },
  {
   "cell_type": "markdown",
   "id": "d6e93d0a",
   "metadata": {},
   "source": [
    "Additional Analysis of Paid Reviews"
   ]
  },
  {
   "cell_type": "code",
   "execution_count": 42,
   "id": "4c83d52d",
   "metadata": {},
   "outputs": [
    {
     "name": "stdout",
     "output_type": "stream",
     "text": [
      "4347\n",
      "15\n",
      "31.914893617021278\n"
     ]
    }
   ],
   "source": [
    "total_5star_df = helpful_votes50_df[(helpful_votes50_df[\"star_rating\"] == 5)]\n",
    "tot_5star = total_5star_df['star_rating'].count()\n",
    "print(tot_5star)\n",
    "vine_5star_df = reviews_vine_program_df[(reviews_vine_program_df[\"star_rating\"] == 5) & (reviews_vine_program_df[\"vine\"] == 'Y')]\n",
    "num_vine_5star = vine_5star_df['star_rating'].count()\n",
    "print(num_vine_5star)\n",
    "\n",
    "paid_percent = num_vine_5star/total_vine_reviews*100\n",
    "print(paid_percent)"
   ]
  },
  {
   "cell_type": "code",
   "execution_count": 41,
   "id": "86b51ede",
   "metadata": {},
   "outputs": [
    {
     "name": "stdout",
     "output_type": "stream",
     "text": [
      "1352\n",
      "20\n",
      "42.5531914893617\n"
     ]
    }
   ],
   "source": [
    "total_4star_df = helpful_votes50_df[(helpful_votes50_df[\"star_rating\"] == 4)]\n",
    "tot_4star = total_4star_df['star_rating'].count()\n",
    "print(tot_4star)\n",
    "vine_4star_df = reviews_vine_program_df[(reviews_vine_program_df[\"star_rating\"] == 4) & (reviews_vine_program_df[\"vine\"] == 'Y')]\n",
    "num_vine_4star = vine_4star_df['star_rating'].count()\n",
    "print(num_vine_4star)\n",
    "\n",
    "paid_percent = num_vine_4star/total_vine_reviews*100\n",
    "print(paid_percent)"
   ]
  },
  {
   "cell_type": "code",
   "execution_count": 43,
   "id": "44d4bd5b",
   "metadata": {},
   "outputs": [
    {
     "name": "stdout",
     "output_type": "stream",
     "text": [
      "771\n",
      "7\n",
      "14.893617021276595\n"
     ]
    }
   ],
   "source": [
    "total_3star_df = helpful_votes50_df[(helpful_votes50_df[\"star_rating\"] == 3)]\n",
    "tot_3star = total_3star_df['star_rating'].count()\n",
    "print(tot_3star)\n",
    "vine_3star_df = reviews_vine_program_df[(reviews_vine_program_df[\"star_rating\"] == 3) & (reviews_vine_program_df[\"vine\"] == 'Y')]\n",
    "num_vine_3star = vine_3star_df['star_rating'].count()\n",
    "print(num_vine_3star)\n",
    "\n",
    "paid_percent = num_vine_3star/total_vine_reviews*100\n",
    "print(paid_percent)"
   ]
  },
  {
   "cell_type": "code",
   "execution_count": 44,
   "id": "8b6f38c0",
   "metadata": {},
   "outputs": [
    {
     "name": "stdout",
     "output_type": "stream",
     "text": [
      "539\n",
      "3\n",
      "6.382978723404255\n"
     ]
    }
   ],
   "source": [
    "total_2star_df = helpful_votes50_df[(helpful_votes50_df[\"star_rating\"] == 2)]\n",
    "tot_2star = total_2star_df['star_rating'].count()\n",
    "print(tot_2star)\n",
    "vine_2star_df = reviews_vine_program_df[(reviews_vine_program_df[\"star_rating\"] == 2) & (reviews_vine_program_df[\"vine\"] == 'Y')]\n",
    "num_vine_2star = vine_2star_df['star_rating'].count()\n",
    "print(num_vine_2star)\n",
    "\n",
    "paid_percent = num_vine_2star/total_vine_reviews*100\n",
    "print(paid_percent)"
   ]
  },
  {
   "cell_type": "code",
   "execution_count": 45,
   "id": "88ab8b33",
   "metadata": {},
   "outputs": [
    {
     "name": "stdout",
     "output_type": "stream",
     "text": [
      "1400\n",
      "2\n",
      "4.25531914893617\n"
     ]
    }
   ],
   "source": [
    "total_1star_df = helpful_votes50_df[(helpful_votes50_df[\"star_rating\"] == 1)]\n",
    "tot_1star = total_1star_df['star_rating'].count()\n",
    "print(tot_1star)\n",
    "vine_1star_df = reviews_vine_program_df[(reviews_vine_program_df[\"star_rating\"] == 1) & (reviews_vine_program_df[\"vine\"] == 'Y')]\n",
    "num_vine_1star = vine_1star_df['star_rating'].count()\n",
    "print(num_vine_1star)\n",
    "\n",
    "paid_percent = num_vine_1star/total_vine_reviews*100\n",
    "print(paid_percent)"
   ]
  },
  {
   "cell_type": "code",
   "execution_count": null,
   "id": "26c15156",
   "metadata": {},
   "outputs": [],
   "source": []
  }
 ],
 "metadata": {
  "kernelspec": {
   "display_name": "PythonData",
   "language": "python",
   "name": "pythondata"
  },
  "language_info": {
   "codemirror_mode": {
    "name": "ipython",
    "version": 3
   },
   "file_extension": ".py",
   "mimetype": "text/x-python",
   "name": "python",
   "nbconvert_exporter": "python",
   "pygments_lexer": "ipython3",
   "version": "3.8.8"
  }
 },
 "nbformat": 4,
 "nbformat_minor": 5
}
